{
 "cells": [
  {
   "cell_type": "code",
   "execution_count": 16,
   "metadata": {},
   "outputs": [],
   "source": [
    "import pandas as pd\n",
    "\n",
    "mnames = ['movie_id', 'title', 'genre']\n",
    "movies_df = pd.read_table('ml-1m/movies.dat', names = mnames, sep = \"::\", engine = 'python', encoding='ISO-8859-1')\n",
    "\n",
    "# Loading the cleaned datasets\n",
    "rnames = ['user_id','movie_id','rating','timestamp']\n",
    "ratings_df = pd.read_table(\"ml-1m/ratings.dat\", header =None, sep='::',names=rnames, engine= 'python')\n",
    "\n",
    "uname = ['user_id','gender','age','occupation','zip']\n",
    "users_df = pd.read_table(\"ml-1m/users.dat\", sep='::', header = None, names=uname, engine='python')"
   ]
  },
  {
   "cell_type": "code",
   "execution_count": 45,
   "metadata": {},
   "outputs": [],
   "source": [
    "import numpy as np \n",
    "\n",
    "users_num = users_df.count()['user_id']\n",
    "users_attr_matrix = np.eye(users_num)"
   ]
  },
  {
   "cell_type": "code",
   "execution_count": 82,
   "metadata": {},
   "outputs": [
    {
     "name": "stdout",
     "output_type": "stream",
     "text": [
      "[1.         0.         0.         0.         0.         0.33333333\n",
      " 0.         0.         0.         0.33333333 0.33333333 0.\n",
      " 0.         0.         0.         0.33333333 0.         0.33333333\n",
      " 0.66666667 0.        ]\n"
     ]
    }
   ],
   "source": [
    "genders = np.array(users_df['gender']=='M', dtype='float')\n",
    "genders.resize((genders.size, 1))\n",
    "genders = (genders - genders.T) == 0\n",
    "genders = genders.astype(np.float64)\n",
    "\n",
    "occupations = np.array(users_df['occupation'], dtype='float')\n",
    "occupations.resize((occupations.size, 1))\n",
    "occupations = (occupations - occupations.T) == 0\n",
    "occupations = occupations.astype(np.float64)\n",
    "\n",
    "ages = np.array(users_df['age'], dtype='float')\n",
    "ages.resize((ages.size, 1))\n",
    "ages = (ages - ages.T) == 0\n",
    "ages = ages.astype(np.float64)\n",
    "\n",
    "users_attr_matrix = (genders + occupations + ages) / 3"
   ]
  },
  {
   "cell_type": "code",
   "execution_count": 83,
   "metadata": {},
   "outputs": [],
   "source": [
    "def attr_similarity(user_1, user_2):\n",
    "    return users_attr_matrix[user_1 - 1][user_2 - 1]\n"
   ]
  },
  {
   "cell_type": "code",
   "execution_count": null,
   "metadata": {},
   "outputs": [],
   "source": [
    "\n",
    "\n",
    "def similarity(user_1, user2):\n",
    "    "
   ]
  }
 ],
 "metadata": {
  "kernelspec": {
   "display_name": "Python 3 (ipykernel)",
   "language": "python",
   "name": "python3"
  },
  "language_info": {
   "codemirror_mode": {
    "name": "ipython",
    "version": 3
   },
   "file_extension": ".py",
   "mimetype": "text/x-python",
   "name": "python",
   "nbconvert_exporter": "python",
   "pygments_lexer": "ipython3",
   "version": "3.10.9"
  }
 },
 "nbformat": 4,
 "nbformat_minor": 2
}
